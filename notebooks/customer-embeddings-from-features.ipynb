{
 "cells": [
  {
   "cell_type": "code",
   "execution_count": 1,
   "id": "bc7ec1e5",
   "metadata": {
    "_cell_guid": "b1076dfc-b9ad-4769-8c92-a6c4dae69d19",
    "_uuid": "8f2839f25d086af736a60e9eeb907d3b93b6e0e5",
    "execution": {
     "iopub.execute_input": "2022-05-18T11:41:33.765720Z",
     "iopub.status.busy": "2022-05-18T11:41:33.765397Z",
     "iopub.status.idle": "2022-05-18T11:41:33.773443Z",
     "shell.execute_reply": "2022-05-18T11:41:33.772623Z"
    },
    "papermill": {
     "duration": 0.020493,
     "end_time": "2022-05-18T11:41:33.775466",
     "exception": false,
     "start_time": "2022-05-18T11:41:33.754973",
     "status": "completed"
    },
    "tags": []
   },
   "outputs": [],
   "source": [
    "import numpy as np # linear algebra\n",
    "import pandas as pd # data processing, CSV file I/O (e.g. pd.read_csv)\n",
    "import pickle"
   ]
  },
  {
   "cell_type": "code",
   "execution_count": 2,
   "id": "16b1a7cc",
   "metadata": {
    "execution": {
     "iopub.execute_input": "2022-05-18T11:41:33.792842Z",
     "iopub.status.busy": "2022-05-18T11:41:33.792569Z",
     "iopub.status.idle": "2022-05-18T11:42:33.187913Z",
     "shell.execute_reply": "2022-05-18T11:42:33.187205Z"
    },
    "papermill": {
     "duration": 59.406479,
     "end_time": "2022-05-18T11:42:33.190109",
     "exception": false,
     "start_time": "2022-05-18T11:41:33.783630",
     "status": "completed"
    },
    "tags": []
   },
   "outputs": [],
   "source": [
    "df = pd.read_csv('../input/h-and-m-personalized-fashion-recommendations/transactions_train.csv',\n",
    "                 usecols = ['customer_id', 'article_id'], dtype=str)\n",
    "# df = next(df)"
   ]
  },
  {
   "cell_type": "code",
   "execution_count": 3,
   "id": "57ccf342",
   "metadata": {
    "execution": {
     "iopub.execute_input": "2022-05-18T11:42:33.209150Z",
     "iopub.status.busy": "2022-05-18T11:42:33.208720Z",
     "iopub.status.idle": "2022-05-18T11:42:34.329892Z",
     "shell.execute_reply": "2022-05-18T11:42:34.329084Z"
    },
    "papermill": {
     "duration": 1.133461,
     "end_time": "2022-05-18T11:42:34.332309",
     "exception": false,
     "start_time": "2022-05-18T11:42:33.198848",
     "status": "completed"
    },
    "tags": []
   },
   "outputs": [],
   "source": [
    "articles = pd.read_csv('../input/h-and-m-personalized-fashion-recommendations/articles.csv', dtype=str)"
   ]
  },
  {
   "cell_type": "code",
   "execution_count": 4,
   "id": "709c1b81",
   "metadata": {
    "execution": {
     "iopub.execute_input": "2022-05-18T11:42:34.349529Z",
     "iopub.status.busy": "2022-05-18T11:42:34.348844Z",
     "iopub.status.idle": "2022-05-18T11:42:34.386054Z",
     "shell.execute_reply": "2022-05-18T11:42:34.385244Z"
    },
    "papermill": {
     "duration": 0.048145,
     "end_time": "2022-05-18T11:42:34.388289",
     "exception": false,
     "start_time": "2022-05-18T11:42:34.340144",
     "status": "completed"
    },
    "tags": []
   },
   "outputs": [],
   "source": [
    "articles = articles[['article_id', 'product_type_name',\n",
    "       'product_group_name', \n",
    "       'graphical_appearance_name', 'colour_group_name',\n",
    "       'perceived_colour_value_name',\n",
    "       'perceived_colour_master_name',\n",
    "       'department_name', 'index_name',\n",
    "       'index_group_name', 'section_name',\n",
    "       'garment_group_name']]\n",
    "\n",
    "feature_subset = ['product_group_name', 'product_type_name',\n",
    "       'graphical_appearance_name', 'colour_group_name',\n",
    "       'perceived_colour_value_name',\n",
    "       'perceived_colour_master_name',\n",
    "       'department_name', 'index_name',\n",
    "       'index_group_name', 'section_name',\n",
    "       'garment_group_name']"
   ]
  },
  {
   "cell_type": "code",
   "execution_count": 5,
   "id": "a7e3afcb",
   "metadata": {
    "execution": {
     "iopub.execute_input": "2022-05-18T11:42:34.405665Z",
     "iopub.status.busy": "2022-05-18T11:42:34.404976Z",
     "iopub.status.idle": "2022-05-18T11:42:34.878859Z",
     "shell.execute_reply": "2022-05-18T11:42:34.877850Z"
    },
    "papermill": {
     "duration": 0.485188,
     "end_time": "2022-05-18T11:42:34.881088",
     "exception": false,
     "start_time": "2022-05-18T11:42:34.395900",
     "status": "completed"
    },
    "tags": []
   },
   "outputs": [],
   "source": [
    "articles = pd.get_dummies(articles, columns=feature_subset)"
   ]
  },
  {
   "cell_type": "code",
   "execution_count": 6,
   "id": "ed2d10b2",
   "metadata": {
    "execution": {
     "iopub.execute_input": "2022-05-18T11:42:34.899301Z",
     "iopub.status.busy": "2022-05-18T11:42:34.898990Z",
     "iopub.status.idle": "2022-05-18T11:42:34.902939Z",
     "shell.execute_reply": "2022-05-18T11:42:34.902093Z"
    },
    "papermill": {
     "duration": 0.015078,
     "end_time": "2022-05-18T11:42:34.904772",
     "exception": false,
     "start_time": "2022-05-18T11:42:34.889694",
     "status": "completed"
    },
    "tags": []
   },
   "outputs": [],
   "source": [
    "# articles.to_csv('articles_embeddings_from_features.csv', index=False)"
   ]
  },
  {
   "cell_type": "code",
   "execution_count": 7,
   "id": "5e6b369a",
   "metadata": {
    "execution": {
     "iopub.execute_input": "2022-05-18T11:42:34.921967Z",
     "iopub.status.busy": "2022-05-18T11:42:34.921186Z",
     "iopub.status.idle": "2022-05-18T11:42:34.925146Z",
     "shell.execute_reply": "2022-05-18T11:42:34.924594Z"
    },
    "papermill": {
     "duration": 0.014321,
     "end_time": "2022-05-18T11:42:34.926806",
     "exception": false,
     "start_time": "2022-05-18T11:42:34.912485",
     "status": "completed"
    },
    "tags": []
   },
   "outputs": [],
   "source": [
    "customers = df.groupby('customer_id')"
   ]
  },
  {
   "cell_type": "code",
   "execution_count": null,
   "id": "9e45e7b2",
   "metadata": {
    "execution": {
     "iopub.execute_input": "2022-05-18T11:39:03.483458Z",
     "iopub.status.busy": "2022-05-18T11:39:03.482724Z",
     "iopub.status.idle": "2022-05-18T11:39:03.894194Z",
     "shell.execute_reply": "2022-05-18T11:39:03.892791Z",
     "shell.execute_reply.started": "2022-05-18T11:39:03.483408Z"
    },
    "papermill": {
     "duration": null,
     "end_time": null,
     "exception": false,
     "start_time": "2022-05-18T11:42:34.934470",
     "status": "running"
    },
    "tags": []
   },
   "outputs": [],
   "source": [
    "f = open('customer_embeddings_from_features.pickle', 'wb')\n",
    "\n",
    "for group in customers.groups:\n",
    "    temp = customers.get_group(group).merge(articles, on='article_id').drop('article_id', axis=1)\n",
    "    temp = temp[temp.columns[1:]].sum()\n",
    "    pickle.dump([group, temp.values], f)"
   ]
  },
  {
   "cell_type": "code",
   "execution_count": null,
   "id": "3f2cfd03",
   "metadata": {
    "papermill": {
     "duration": null,
     "end_time": null,
     "exception": null,
     "start_time": null,
     "status": "pending"
    },
    "tags": []
   },
   "outputs": [],
   "source": []
  }
 ],
 "metadata": {
  "kernelspec": {
   "display_name": "Python 3",
   "language": "python",
   "name": "python3"
  },
  "language_info": {
   "codemirror_mode": {
    "name": "ipython",
    "version": 3
   },
   "file_extension": ".py",
   "mimetype": "text/x-python",
   "name": "python",
   "nbconvert_exporter": "python",
   "pygments_lexer": "ipython3",
   "version": "3.6.4"
  },
  "papermill": {
   "default_parameters": {},
   "duration": null,
   "end_time": null,
   "environment_variables": {},
   "exception": null,
   "input_path": "__notebook__.ipynb",
   "output_path": "__notebook__.ipynb",
   "parameters": {},
   "start_time": "2022-05-18T11:41:25.118181",
   "version": "2.3.4"
  }
 },
 "nbformat": 4,
 "nbformat_minor": 5
}