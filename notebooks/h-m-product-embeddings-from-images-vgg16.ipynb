{
 "cells": [
  {
   "cell_type": "markdown",
   "id": "93e2942e",
   "metadata": {
    "papermill": {
     "duration": 0.006442,
     "end_time": "2022-05-18T11:45:56.993300",
     "exception": false,
     "start_time": "2022-05-18T11:45:56.986858",
     "status": "completed"
    },
    "tags": []
   },
   "source": [
    "**This code builds 1000 dimension product embeddings from images by passing each image through a pre-trained VGG16 CNN from Keras Applications API.\n",
    "Embeddings are stored in a pickle file found here https://www.kaggle.com/datasets/mohammedobeidat/hm-product-image-embeddings\n",
    "It takes 11 hours to finish the process**"
   ]
  },
  {
   "cell_type": "markdown",
   "id": "34decc21",
   "metadata": {
    "papermill": {
     "duration": 0.005114,
     "end_time": "2022-05-18T11:45:57.004063",
     "exception": false,
     "start_time": "2022-05-18T11:45:56.998949",
     "status": "completed"
    },
    "tags": []
   },
   "source": [
    "**To see how these embeddings are used to find similar items please head to \n",
    "https://www.kaggle.com/code/mohammedobeidat/finding-similar-items-with-image-embeddings-knn**"
   ]
  },
  {
   "cell_type": "code",
   "execution_count": 1,
   "id": "b8148ea6",
   "metadata": {
    "_cell_guid": "b1076dfc-b9ad-4769-8c92-a6c4dae69d19",
    "_uuid": "8f2839f25d086af736a60e9eeb907d3b93b6e0e5",
    "execution": {
     "iopub.execute_input": "2022-05-18T11:45:57.016786Z",
     "iopub.status.busy": "2022-05-18T11:45:57.016379Z",
     "iopub.status.idle": "2022-05-18T11:46:09.109889Z",
     "shell.execute_reply": "2022-05-18T11:46:09.109146Z"
    },
    "papermill": {
     "duration": 12.102773,
     "end_time": "2022-05-18T11:46:09.112152",
     "exception": false,
     "start_time": "2022-05-18T11:45:57.009379",
     "status": "completed"
    },
    "tags": []
   },
   "outputs": [
    {
     "name": "stderr",
     "output_type": "stream",
     "text": [
      "2022-05-18 11:46:02.657138: I tensorflow/stream_executor/cuda/cuda_gpu_executor.cc:937] successful NUMA node read from SysFS had negative value (-1), but there must be at least one NUMA node, so returning NUMA node zero\n",
      "2022-05-18 11:46:02.780085: I tensorflow/stream_executor/cuda/cuda_gpu_executor.cc:937] successful NUMA node read from SysFS had negative value (-1), but there must be at least one NUMA node, so returning NUMA node zero\n",
      "2022-05-18 11:46:02.780894: I tensorflow/stream_executor/cuda/cuda_gpu_executor.cc:937] successful NUMA node read from SysFS had negative value (-1), but there must be at least one NUMA node, so returning NUMA node zero\n",
      "2022-05-18 11:46:02.782077: I tensorflow/core/platform/cpu_feature_guard.cc:142] This TensorFlow binary is optimized with oneAPI Deep Neural Network Library (oneDNN) to use the following CPU instructions in performance-critical operations:  AVX2 AVX512F FMA\n",
      "To enable them in other operations, rebuild TensorFlow with the appropriate compiler flags.\n",
      "2022-05-18 11:46:02.790691: I tensorflow/stream_executor/cuda/cuda_gpu_executor.cc:937] successful NUMA node read from SysFS had negative value (-1), but there must be at least one NUMA node, so returning NUMA node zero\n",
      "2022-05-18 11:46:02.791482: I tensorflow/stream_executor/cuda/cuda_gpu_executor.cc:937] successful NUMA node read from SysFS had negative value (-1), but there must be at least one NUMA node, so returning NUMA node zero\n",
      "2022-05-18 11:46:02.792254: I tensorflow/stream_executor/cuda/cuda_gpu_executor.cc:937] successful NUMA node read from SysFS had negative value (-1), but there must be at least one NUMA node, so returning NUMA node zero\n",
      "2022-05-18 11:46:04.843323: I tensorflow/stream_executor/cuda/cuda_gpu_executor.cc:937] successful NUMA node read from SysFS had negative value (-1), but there must be at least one NUMA node, so returning NUMA node zero\n",
      "2022-05-18 11:46:04.844220: I tensorflow/stream_executor/cuda/cuda_gpu_executor.cc:937] successful NUMA node read from SysFS had negative value (-1), but there must be at least one NUMA node, so returning NUMA node zero\n",
      "2022-05-18 11:46:04.844877: I tensorflow/stream_executor/cuda/cuda_gpu_executor.cc:937] successful NUMA node read from SysFS had negative value (-1), but there must be at least one NUMA node, so returning NUMA node zero\n",
      "2022-05-18 11:46:04.846263: I tensorflow/core/common_runtime/gpu/gpu_device.cc:1510] Created device /job:localhost/replica:0/task:0/device:GPU:0 with 15403 MB memory:  -> device: 0, name: Tesla P100-PCIE-16GB, pci bus id: 0000:00:04.0, compute capability: 6.0\n"
     ]
    },
    {
     "name": "stdout",
     "output_type": "stream",
     "text": [
      "Downloading data from https://storage.googleapis.com/tensorflow/keras-applications/vgg16/vgg16_weights_tf_dim_ordering_tf_kernels.h5\n",
      "553467904/553467096 [==============================] - 3s 0us/step\n",
      "553476096/553467096 [==============================] - 3s 0us/step\n"
     ]
    }
   ],
   "source": [
    "from tensorflow.keras.applications.vgg16 import VGG16\n",
    "from tensorflow.keras.preprocessing import image\n",
    "from tensorflow.keras.applications.resnet50 import preprocess_input, decode_predictions\n",
    "import numpy as np\n",
    "import tensorflow as tf\n",
    "model = VGG16(weights='imagenet')"
   ]
  },
  {
   "cell_type": "code",
   "execution_count": 2,
   "id": "579b1ac1",
   "metadata": {
    "execution": {
     "iopub.execute_input": "2022-05-18T11:46:09.163157Z",
     "iopub.status.busy": "2022-05-18T11:46:09.162504Z",
     "iopub.status.idle": "2022-05-18T11:48:06.078954Z",
     "shell.execute_reply": "2022-05-18T11:48:06.078072Z"
    },
    "papermill": {
     "duration": 116.944179,
     "end_time": "2022-05-18T11:48:06.081091",
     "exception": false,
     "start_time": "2022-05-18T11:46:09.136912",
     "status": "completed"
    },
    "tags": []
   },
   "outputs": [],
   "source": [
    "import os\n",
    "paths = []\n",
    "ids = []\n",
    "for dirname, _, filenames in os.walk('../input/h-and-m-personalized-fashion-recommendations/images'):\n",
    "    for filename in filenames:\n",
    "        paths.append(os.path.join(dirname, filename))\n",
    "        ids.append(filename[:1])"
   ]
  },
  {
   "cell_type": "code",
   "execution_count": 3,
   "id": "710af4b1",
   "metadata": {
    "execution": {
     "iopub.execute_input": "2022-05-18T11:48:06.131267Z",
     "iopub.status.busy": "2022-05-18T11:48:06.131040Z",
     "iopub.status.idle": "2022-05-18T11:48:06.173258Z",
     "shell.execute_reply": "2022-05-18T11:48:06.172572Z"
    },
    "papermill": {
     "duration": 0.06915,
     "end_time": "2022-05-18T11:48:06.175074",
     "exception": false,
     "start_time": "2022-05-18T11:48:06.105924",
     "status": "completed"
    },
    "tags": []
   },
   "outputs": [],
   "source": [
    "import pickle\n",
    "\n",
    "with open('paths.pickle', 'wb') as f:\n",
    "    pickle.dump(paths, f)\n",
    "    \n",
    "with open('ids.pickle', 'wb') as f:\n",
    "    pickle.dump(ids, f)"
   ]
  },
  {
   "cell_type": "code",
   "execution_count": 4,
   "id": "8f1bec27",
   "metadata": {
    "execution": {
     "iopub.execute_input": "2022-05-18T11:48:06.227738Z",
     "iopub.status.busy": "2022-05-18T11:48:06.227498Z",
     "iopub.status.idle": "2022-05-18T14:22:58.693226Z",
     "shell.execute_reply": "2022-05-18T14:22:58.692475Z"
    },
    "papermill": {
     "duration": 9292.495811,
     "end_time": "2022-05-18T14:22:58.695713",
     "exception": false,
     "start_time": "2022-05-18T11:48:06.199902",
     "status": "completed"
    },
    "tags": []
   },
   "outputs": [
    {
     "name": "stderr",
     "output_type": "stream",
     "text": [
      "2022-05-18 11:48:06.370548: I tensorflow/compiler/mlir/mlir_graph_optimization_pass.cc:185] None of the MLIR Optimization Passes are enabled (registered 2)\n",
      "2022-05-18 11:48:07.339886: I tensorflow/stream_executor/cuda/cuda_dnn.cc:369] Loaded cuDNN version 8005\n"
     ]
    },
    {
     "name": "stdout",
     "output_type": "stream",
     "text": [
      "Downloading data from https://storage.googleapis.com/download.tensorflow.org/data/imagenet_class_index.json\n",
      "40960/35363 [==================================] - 0s 0us/step\n",
      "49152/35363 [=========================================] - 0s 0us/step\n"
     ]
    },
    {
     "name": "stderr",
     "output_type": "stream",
     "text": [
      "2022-05-18 12:40:49.607215: W tensorflow/core/data/root_dataset.cc:167] Optimization loop failed: Cancelled: Operation was cancelled\n",
      "2022-05-18 14:05:20.374676: W tensorflow/core/data/root_dataset.cc:167] Optimization loop failed: Cancelled: Operation was cancelled\n"
     ]
    }
   ],
   "source": [
    "# embeds = []\n",
    "# labels = []\n",
    "embeds = open('embeds.pickle', 'wb')\n",
    "labels = open('labels.pickle', 'wb')\n",
    "\n",
    "for path in paths:\n",
    "    try:\n",
    "        img = image.load_img(path, target_size=(224, 224))\n",
    "        x = image.img_to_array(img)\n",
    "        x = np.expand_dims(x, axis=0)\n",
    "        x = preprocess_input(x)\n",
    "        embed = model.predict(x)\n",
    "        label = decode_predictions(embed, top=1)[0][0][1]\n",
    "\n",
    "    #     embeds.append(embed)\n",
    "    #     labels.append(label)\n",
    "\n",
    "        pickle.dump(embed, embeds)\n",
    "        pickle.dump(label, labels)\n",
    "        \n",
    "    except e:\n",
    "        print(e)\n"
   ]
  }
 ],
 "metadata": {
  "kernelspec": {
   "display_name": "Python 3",
   "language": "python",
   "name": "python3"
  },
  "language_info": {
   "codemirror_mode": {
    "name": "ipython",
    "version": 3
   },
   "file_extension": ".py",
   "mimetype": "text/x-python",
   "name": "python",
   "nbconvert_exporter": "python",
   "pygments_lexer": "ipython3",
   "version": "3.7.12"
  },
  "papermill": {
   "default_parameters": {},
   "duration": 9432.791686,
   "end_time": "2022-05-18T14:23:01.650591",
   "environment_variables": {},
   "exception": null,
   "input_path": "__notebook__.ipynb",
   "output_path": "__notebook__.ipynb",
   "parameters": {},
   "start_time": "2022-05-18T11:45:48.858905",
   "version": "2.3.4"
  }
 },
 "nbformat": 4,
 "nbformat_minor": 5
}
