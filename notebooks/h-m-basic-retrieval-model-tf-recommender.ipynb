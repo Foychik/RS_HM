{
 "cells": [
  {
   "cell_type": "markdown",
   "id": "0839b3f7",
   "metadata": {
    "papermill": {
     "duration": 0.02234,
     "end_time": "2022-04-30T17:34:06.627711",
     "exception": false,
     "start_time": "2022-04-30T17:34:06.605371",
     "status": "completed"
    },
    "tags": []
   },
   "source": [
    "# Tensorflow Recommenders:\n",
    "\n",
    "In this notebook we peek into the possibility of using Tensorflow recommender system (tfrs) -  Retrieval models for H&M product recommendations.\n",
    "\n",
    "Retrieval models have typically query and candidate models in which features are embedded. Affinity score is calculated by a factorized retrieval model.The retrieval task is for selecting an initial set of candidates from all possible candidates.\n",
    "\n",
    "Tensorflow has easy to implement modules such as *tfrs.tasks.Retrieval* along with metrics such as *tfrs.metrics.FactorizedTopK* for retrieval task.\n",
    "\n",
    "Tensorflow *ScaNN* library can be used to retrieve the best candidates for a given query. In our case we can get the 12 recommendations required using this library."
   ]
  },
  {
   "cell_type": "code",
   "execution_count": 1,
   "id": "0fe0f0fb",
   "metadata": {
    "_kg_hide-output": true,
    "execution": {
     "iopub.execute_input": "2022-04-30T17:34:06.670389Z",
     "iopub.status.busy": "2022-04-30T17:34:06.670047Z",
     "iopub.status.idle": "2022-04-30T17:35:57.154484Z",
     "shell.execute_reply": "2022-04-30T17:35:57.153372Z"
    },
    "papermill": {
     "duration": 110.509082,
     "end_time": "2022-04-30T17:35:57.157317",
     "exception": false,
     "start_time": "2022-04-30T17:34:06.648235",
     "status": "completed"
    },
    "tags": []
   },
   "outputs": [
    {
     "name": "stdout",
     "output_type": "stream",
     "text": [
      "\u001b[31mERROR: pip's dependency resolver does not currently take into account all the packages that are installed. This behaviour is the source of the following dependency conflicts.\r\n",
      "tensorflow-io 0.21.0 requires tensorflow-io-gcs-filesystem==0.21.0, which is not installed.\r\n",
      "beatrix-jupyterlab 3.1.7 requires google-cloud-bigquery-storage, which is not installed.\r\n",
      "tfx-bsl 1.7.0 requires pyarrow<6,>=1, but you have pyarrow 7.0.0 which is incompatible.\r\n",
      "tfx-bsl 1.7.0 requires tensorflow!=2.0.*,!=2.1.*,!=2.2.*,!=2.3.*,!=2.4.*,!=2.5.*,!=2.6.*,!=2.7.*,<3,>=1.15.5, but you have tensorflow 2.6.3 which is incompatible.\r\n",
      "tensorflow-transform 1.7.0 requires pyarrow<6,>=1, but you have pyarrow 7.0.0 which is incompatible.\r\n",
      "tensorflow-transform 1.7.0 requires tensorflow!=2.0.*,!=2.1.*,!=2.2.*,!=2.3.*,!=2.4.*,!=2.5.*,!=2.6.*,!=2.7.*,<2.9,>=1.15.5, but you have tensorflow 2.6.3 which is incompatible.\r\n",
      "tensorflow-serving-api 2.8.0 requires tensorflow<3,>=2.8.0, but you have tensorflow 2.6.3 which is incompatible.\r\n",
      "rich 12.2.0 requires typing-extensions<5.0,>=4.0.0; python_version < \"3.9\", but you have typing-extensions 3.10.0.2 which is incompatible.\r\n",
      "pytorch-lightning 1.6.1 requires typing-extensions>=4.0.0, but you have typing-extensions 3.10.0.2 which is incompatible.\r\n",
      "pdpbox 0.2.1 requires matplotlib==3.1.1, but you have matplotlib 3.5.1 which is incompatible.\r\n",
      "imageio 2.16.1 requires numpy>=1.20.0, but you have numpy 1.19.5 which is incompatible.\r\n",
      "grpcio-status 1.44.0 requires grpcio>=1.44.0, but you have grpcio 1.43.0 which is incompatible.\r\n",
      "google-cloud-aiplatform 0.6.0a1 requires google-cloud-storage<2.0.0dev,>=1.26.0, but you have google-cloud-storage 2.1.0 which is incompatible.\r\n",
      "gcsfs 2022.2.0 requires fsspec==2022.02.0, but you have fsspec 2022.3.0 which is incompatible.\r\n",
      "flake8 4.0.1 requires importlib-metadata<4.3; python_version < \"3.8\", but you have importlib-metadata 4.11.3 which is incompatible.\r\n",
      "featuretools 1.8.0 requires numpy>=1.21.0, but you have numpy 1.19.5 which is incompatible.\r\n",
      "cloud-tpu-client 0.10 requires google-api-python-client==1.8.0, but you have google-api-python-client 1.12.11 which is incompatible.\r\n",
      "apache-beam 2.37.0 requires dill<0.3.2,>=0.3.1.1, but you have dill 0.3.4 which is incompatible.\r\n",
      "apache-beam 2.37.0 requires httplib2<0.20.0,>=0.8, but you have httplib2 0.20.4 which is incompatible.\r\n",
      "apache-beam 2.37.0 requires pyarrow<7.0.0,>=0.15.1, but you have pyarrow 7.0.0 which is incompatible.\r\n",
      "aioitertools 0.10.0 requires typing_extensions>=4.0; python_version < \"3.10\", but you have typing-extensions 3.10.0.2 which is incompatible.\r\n",
      "aiobotocore 2.2.0 requires botocore<1.24.22,>=1.24.21, but you have botocore 1.25.0 which is incompatible.\u001b[0m\u001b[31m\r\n",
      "\u001b[0m\u001b[33mWARNING: Running pip as the 'root' user can result in broken permissions and conflicting behaviour with the system package manager. It is recommended to use a virtual environment instead: https://pip.pypa.io/warnings/venv\u001b[0m\u001b[33m\r\n",
      "\u001b[0m\u001b[31mERROR: pip's dependency resolver does not currently take into account all the packages that are installed. This behaviour is the source of the following dependency conflicts.\r\n",
      "beatrix-jupyterlab 3.1.7 requires google-cloud-bigquery-storage, which is not installed.\r\n",
      "tfx-bsl 1.7.0 requires pyarrow<6,>=1, but you have pyarrow 7.0.0 which is incompatible.\r\n",
      "tensorflow-transform 1.7.0 requires pyarrow<6,>=1, but you have pyarrow 7.0.0 which is incompatible.\r\n",
      "tensorflow-io 0.21.0 requires tensorflow<2.7.0,>=2.6.0, but you have tensorflow 2.8.0 which is incompatible.\r\n",
      "tensorflow-io 0.21.0 requires tensorflow-io-gcs-filesystem==0.21.0, but you have tensorflow-io-gcs-filesystem 0.25.0 which is incompatible.\r\n",
      "pytorch-lightning 1.6.1 requires typing-extensions>=4.0.0, but you have typing-extensions 3.10.0.2 which is incompatible.\r\n",
      "pdpbox 0.2.1 requires matplotlib==3.1.1, but you have matplotlib 3.5.1 which is incompatible.\r\n",
      "apache-beam 2.37.0 requires dill<0.3.2,>=0.3.1.1, but you have dill 0.3.4 which is incompatible.\r\n",
      "apache-beam 2.37.0 requires httplib2<0.20.0,>=0.8, but you have httplib2 0.20.4 which is incompatible.\r\n",
      "apache-beam 2.37.0 requires pyarrow<7.0.0,>=0.15.1, but you have pyarrow 7.0.0 which is incompatible.\u001b[0m\u001b[31m\r\n",
      "\u001b[0m\u001b[33mWARNING: Running pip as the 'root' user can result in broken permissions and conflicting behaviour with the system package manager. It is recommended to use a virtual environment instead: https://pip.pypa.io/warnings/venv\u001b[0m\u001b[33m\r\n",
      "\u001b[0m"
     ]
    }
   ],
   "source": [
    "!pip install -q tensorflow-recommenders\n",
    "!pip install -q scann"
   ]
  },
  {
   "cell_type": "code",
   "execution_count": 2,
   "id": "1f21fe21",
   "metadata": {
    "_kg_hide-output": true,
    "execution": {
     "iopub.execute_input": "2022-04-30T17:35:57.201557Z",
     "iopub.status.busy": "2022-04-30T17:35:57.200888Z",
     "iopub.status.idle": "2022-04-30T17:36:02.141281Z",
     "shell.execute_reply": "2022-04-30T17:36:02.140090Z"
    },
    "papermill": {
     "duration": 4.964267,
     "end_time": "2022-04-30T17:36:02.144124",
     "exception": false,
     "start_time": "2022-04-30T17:35:57.179857",
     "status": "completed"
    },
    "tags": []
   },
   "outputs": [
    {
     "name": "stderr",
     "output_type": "stream",
     "text": [
      "2022-04-30 17:35:57.449599: W tensorflow/stream_executor/platform/default/dso_loader.cc:64] Could not load dynamic library 'libcudart.so.11.0'; dlerror: libcudart.so.11.0: cannot open shared object file: No such file or directory; LD_LIBRARY_PATH: /usr/local/cuda/lib64:/usr/local/cuda/lib:/usr/local/lib/x86_64-linux-gnu:/usr/local/nvidia/lib:/usr/local/nvidia/lib64:\n",
      "2022-04-30 17:35:57.449656: I tensorflow/stream_executor/cuda/cudart_stub.cc:29] Ignore above cudart dlerror if you do not have a GPU set up on your machine.\n"
     ]
    }
   ],
   "source": [
    "import pandas as pd\n",
    "import numpy as np\n",
    "import tensorflow as tf\n",
    "import tensorflow_recommenders as tfrs\n",
    "\n",
    "from pathlib import Path\n",
    "from typing import Dict, Text"
   ]
  },
  {
   "cell_type": "markdown",
   "id": "092809ee",
   "metadata": {
    "papermill": {
     "duration": 0.020329,
     "end_time": "2022-04-30T17:36:02.185079",
     "exception": false,
     "start_time": "2022-04-30T17:36:02.164750",
     "status": "completed"
    },
    "tags": []
   },
   "source": [
    "# The Dataset"
   ]
  },
  {
   "cell_type": "code",
   "execution_count": 3,
   "id": "5e09e347",
   "metadata": {
    "execution": {
     "iopub.execute_input": "2022-04-30T17:36:02.226179Z",
     "iopub.status.busy": "2022-04-30T17:36:02.225882Z",
     "iopub.status.idle": "2022-04-30T17:37:23.796817Z",
     "shell.execute_reply": "2022-04-30T17:37:23.795832Z"
    },
    "papermill": {
     "duration": 81.61501,
     "end_time": "2022-04-30T17:37:23.819752",
     "exception": false,
     "start_time": "2022-04-30T17:36:02.204742",
     "status": "completed"
    },
    "tags": []
   },
   "outputs": [
    {
     "data": {
      "text/html": [
       "<div>\n",
       "<style scoped>\n",
       "    .dataframe tbody tr th:only-of-type {\n",
       "        vertical-align: middle;\n",
       "    }\n",
       "\n",
       "    .dataframe tbody tr th {\n",
       "        vertical-align: top;\n",
       "    }\n",
       "\n",
       "    .dataframe thead th {\n",
       "        text-align: right;\n",
       "    }\n",
       "</style>\n",
       "<table border=\"1\" class=\"dataframe\">\n",
       "  <thead>\n",
       "    <tr style=\"text-align: right;\">\n",
       "      <th></th>\n",
       "      <th>t_dat</th>\n",
       "      <th>customer_id</th>\n",
       "      <th>article_id</th>\n",
       "      <th>price</th>\n",
       "      <th>sales_channel_id</th>\n",
       "    </tr>\n",
       "  </thead>\n",
       "  <tbody>\n",
       "    <tr>\n",
       "      <th>30990055</th>\n",
       "      <td>2020-09-01</td>\n",
       "      <td>0001d44dbe7f6c4b35200abdb052c77a87596fe1bdcc37...</td>\n",
       "      <td>0777148006</td>\n",
       "      <td>0.013542</td>\n",
       "      <td>1</td>\n",
       "    </tr>\n",
       "    <tr>\n",
       "      <th>30990056</th>\n",
       "      <td>2020-09-01</td>\n",
       "      <td>0001d44dbe7f6c4b35200abdb052c77a87596fe1bdcc37...</td>\n",
       "      <td>0835801001</td>\n",
       "      <td>0.018627</td>\n",
       "      <td>1</td>\n",
       "    </tr>\n",
       "    <tr>\n",
       "      <th>30990057</th>\n",
       "      <td>2020-09-01</td>\n",
       "      <td>0001d44dbe7f6c4b35200abdb052c77a87596fe1bdcc37...</td>\n",
       "      <td>0923134005</td>\n",
       "      <td>0.012695</td>\n",
       "      <td>1</td>\n",
       "    </tr>\n",
       "    <tr>\n",
       "      <th>30990058</th>\n",
       "      <td>2020-09-01</td>\n",
       "      <td>0001d44dbe7f6c4b35200abdb052c77a87596fe1bdcc37...</td>\n",
       "      <td>0865929003</td>\n",
       "      <td>0.016932</td>\n",
       "      <td>1</td>\n",
       "    </tr>\n",
       "    <tr>\n",
       "      <th>30990059</th>\n",
       "      <td>2020-09-01</td>\n",
       "      <td>0005ed68483efa39644c45185550a82dd09acb07622acb...</td>\n",
       "      <td>0863646004</td>\n",
       "      <td>0.033881</td>\n",
       "      <td>1</td>\n",
       "    </tr>\n",
       "  </tbody>\n",
       "</table>\n",
       "</div>"
      ],
      "text/plain": [
       "               t_dat                                        customer_id  \\\n",
       "30990055  2020-09-01  0001d44dbe7f6c4b35200abdb052c77a87596fe1bdcc37...   \n",
       "30990056  2020-09-01  0001d44dbe7f6c4b35200abdb052c77a87596fe1bdcc37...   \n",
       "30990057  2020-09-01  0001d44dbe7f6c4b35200abdb052c77a87596fe1bdcc37...   \n",
       "30990058  2020-09-01  0001d44dbe7f6c4b35200abdb052c77a87596fe1bdcc37...   \n",
       "30990059  2020-09-01  0005ed68483efa39644c45185550a82dd09acb07622acb...   \n",
       "\n",
       "          article_id     price  sales_channel_id  \n",
       "30990055  0777148006  0.013542                 1  \n",
       "30990056  0835801001  0.018627                 1  \n",
       "30990057  0923134005  0.012695                 1  \n",
       "30990058  0865929003  0.016932                 1  \n",
       "30990059  0863646004  0.033881                 1  "
      ]
     },
     "execution_count": 3,
     "metadata": {},
     "output_type": "execute_result"
    }
   ],
   "source": [
    "data_dir = Path('../input/h-and-m-personalized-fashion-recommendations')\n",
    "train0 = pd.read_csv(data_dir/'transactions_train.csv')\n",
    "train0 = train0[train0['t_dat'] >='2020-09-01']\n",
    "\n",
    "# add 0 in article_id column (string)\n",
    "train0['article_id'] = train0['article_id'].astype(str)\n",
    "train0['article_id'] = train0['article_id'].apply(lambda x: x.zfill(10))\n",
    "train0.head()"
   ]
  },
  {
   "cell_type": "code",
   "execution_count": 4,
   "id": "2eb9f6bf",
   "metadata": {
    "execution": {
     "iopub.execute_input": "2022-04-30T17:37:23.864013Z",
     "iopub.status.busy": "2022-04-30T17:37:23.863738Z",
     "iopub.status.idle": "2022-04-30T17:37:30.210556Z",
     "shell.execute_reply": "2022-04-30T17:37:30.209362Z"
    },
    "papermill": {
     "duration": 6.373194,
     "end_time": "2022-04-30T17:37:30.213215",
     "exception": false,
     "start_time": "2022-04-30T17:37:23.840021",
     "status": "completed"
    },
    "tags": []
   },
   "outputs": [
    {
     "data": {
      "text/html": [
       "<div>\n",
       "<style scoped>\n",
       "    .dataframe tbody tr th:only-of-type {\n",
       "        vertical-align: middle;\n",
       "    }\n",
       "\n",
       "    .dataframe tbody tr th {\n",
       "        vertical-align: top;\n",
       "    }\n",
       "\n",
       "    .dataframe thead th {\n",
       "        text-align: right;\n",
       "    }\n",
       "</style>\n",
       "<table border=\"1\" class=\"dataframe\">\n",
       "  <thead>\n",
       "    <tr style=\"text-align: right;\">\n",
       "      <th></th>\n",
       "      <th>customer_id</th>\n",
       "      <th>FN</th>\n",
       "      <th>Active</th>\n",
       "      <th>club_member_status</th>\n",
       "      <th>fashion_news_frequency</th>\n",
       "      <th>age</th>\n",
       "      <th>postal_code</th>\n",
       "    </tr>\n",
       "  </thead>\n",
       "  <tbody>\n",
       "    <tr>\n",
       "      <th>0</th>\n",
       "      <td>00000dbacae5abe5e23885899a1fa44253a17956c6d1c3...</td>\n",
       "      <td>NaN</td>\n",
       "      <td>NaN</td>\n",
       "      <td>ACTIVE</td>\n",
       "      <td>NONE</td>\n",
       "      <td>49.0</td>\n",
       "      <td>52043ee2162cf5aa7ee79974281641c6f11a68d276429a...</td>\n",
       "    </tr>\n",
       "    <tr>\n",
       "      <th>1</th>\n",
       "      <td>0000423b00ade91418cceaf3b26c6af3dd342b51fd051e...</td>\n",
       "      <td>NaN</td>\n",
       "      <td>NaN</td>\n",
       "      <td>ACTIVE</td>\n",
       "      <td>NONE</td>\n",
       "      <td>25.0</td>\n",
       "      <td>2973abc54daa8a5f8ccfe9362140c63247c5eee03f1d93...</td>\n",
       "    </tr>\n",
       "    <tr>\n",
       "      <th>2</th>\n",
       "      <td>000058a12d5b43e67d225668fa1f8d618c13dc232df0ca...</td>\n",
       "      <td>NaN</td>\n",
       "      <td>NaN</td>\n",
       "      <td>ACTIVE</td>\n",
       "      <td>NONE</td>\n",
       "      <td>24.0</td>\n",
       "      <td>64f17e6a330a85798e4998f62d0930d14db8db1c054af6...</td>\n",
       "    </tr>\n",
       "    <tr>\n",
       "      <th>3</th>\n",
       "      <td>00005ca1c9ed5f5146b52ac8639a40ca9d57aeff4d1bd2...</td>\n",
       "      <td>NaN</td>\n",
       "      <td>NaN</td>\n",
       "      <td>ACTIVE</td>\n",
       "      <td>NONE</td>\n",
       "      <td>54.0</td>\n",
       "      <td>5d36574f52495e81f019b680c843c443bd343d5ca5b1c2...</td>\n",
       "    </tr>\n",
       "    <tr>\n",
       "      <th>4</th>\n",
       "      <td>00006413d8573cd20ed7128e53b7b13819fe5cfc2d801f...</td>\n",
       "      <td>1.0</td>\n",
       "      <td>1.0</td>\n",
       "      <td>ACTIVE</td>\n",
       "      <td>Regularly</td>\n",
       "      <td>52.0</td>\n",
       "      <td>25fa5ddee9aac01b35208d01736e57942317d756b32ddd...</td>\n",
       "    </tr>\n",
       "  </tbody>\n",
       "</table>\n",
       "</div>"
      ],
      "text/plain": [
       "                                         customer_id   FN  Active  \\\n",
       "0  00000dbacae5abe5e23885899a1fa44253a17956c6d1c3...  NaN     NaN   \n",
       "1  0000423b00ade91418cceaf3b26c6af3dd342b51fd051e...  NaN     NaN   \n",
       "2  000058a12d5b43e67d225668fa1f8d618c13dc232df0ca...  NaN     NaN   \n",
       "3  00005ca1c9ed5f5146b52ac8639a40ca9d57aeff4d1bd2...  NaN     NaN   \n",
       "4  00006413d8573cd20ed7128e53b7b13819fe5cfc2d801f...  1.0     1.0   \n",
       "\n",
       "  club_member_status fashion_news_frequency   age  \\\n",
       "0             ACTIVE                   NONE  49.0   \n",
       "1             ACTIVE                   NONE  25.0   \n",
       "2             ACTIVE                   NONE  24.0   \n",
       "3             ACTIVE                   NONE  54.0   \n",
       "4             ACTIVE              Regularly  52.0   \n",
       "\n",
       "                                         postal_code  \n",
       "0  52043ee2162cf5aa7ee79974281641c6f11a68d276429a...  \n",
       "1  2973abc54daa8a5f8ccfe9362140c63247c5eee03f1d93...  \n",
       "2  64f17e6a330a85798e4998f62d0930d14db8db1c054af6...  \n",
       "3  5d36574f52495e81f019b680c843c443bd343d5ca5b1c2...  \n",
       "4  25fa5ddee9aac01b35208d01736e57942317d756b32ddd...  "
      ]
     },
     "execution_count": 4,
     "metadata": {},
     "output_type": "execute_result"
    }
   ],
   "source": [
    "customer_df = pd.read_csv(data_dir/'customers.csv')\n",
    "customer_df.head()"
   ]
  },
  {
   "cell_type": "code",
   "execution_count": 5,
   "id": "1a2bef4d",
   "metadata": {
    "execution": {
     "iopub.execute_input": "2022-04-30T17:37:30.260571Z",
     "iopub.status.busy": "2022-04-30T17:37:30.259575Z",
     "iopub.status.idle": "2022-04-30T17:37:31.769178Z",
     "shell.execute_reply": "2022-04-30T17:37:31.768165Z"
    },
    "papermill": {
     "duration": 1.537539,
     "end_time": "2022-04-30T17:37:31.772457",
     "exception": false,
     "start_time": "2022-04-30T17:37:30.234918",
     "status": "completed"
    },
    "tags": []
   },
   "outputs": [
    {
     "data": {
      "text/html": [
       "<div>\n",
       "<style scoped>\n",
       "    .dataframe tbody tr th:only-of-type {\n",
       "        vertical-align: middle;\n",
       "    }\n",
       "\n",
       "    .dataframe tbody tr th {\n",
       "        vertical-align: top;\n",
       "    }\n",
       "\n",
       "    .dataframe thead th {\n",
       "        text-align: right;\n",
       "    }\n",
       "</style>\n",
       "<table border=\"1\" class=\"dataframe\">\n",
       "  <thead>\n",
       "    <tr style=\"text-align: right;\">\n",
       "      <th></th>\n",
       "      <th>article_id</th>\n",
       "      <th>product_code</th>\n",
       "      <th>prod_name</th>\n",
       "      <th>product_type_no</th>\n",
       "      <th>product_type_name</th>\n",
       "      <th>product_group_name</th>\n",
       "      <th>graphical_appearance_no</th>\n",
       "      <th>graphical_appearance_name</th>\n",
       "      <th>colour_group_code</th>\n",
       "      <th>colour_group_name</th>\n",
       "      <th>...</th>\n",
       "      <th>department_name</th>\n",
       "      <th>index_code</th>\n",
       "      <th>index_name</th>\n",
       "      <th>index_group_no</th>\n",
       "      <th>index_group_name</th>\n",
       "      <th>section_no</th>\n",
       "      <th>section_name</th>\n",
       "      <th>garment_group_no</th>\n",
       "      <th>garment_group_name</th>\n",
       "      <th>detail_desc</th>\n",
       "    </tr>\n",
       "  </thead>\n",
       "  <tbody>\n",
       "    <tr>\n",
       "      <th>0</th>\n",
       "      <td>0108775015</td>\n",
       "      <td>108775</td>\n",
       "      <td>Strap top</td>\n",
       "      <td>253</td>\n",
       "      <td>Vest top</td>\n",
       "      <td>Garment Upper body</td>\n",
       "      <td>1010016</td>\n",
       "      <td>Solid</td>\n",
       "      <td>9</td>\n",
       "      <td>Black</td>\n",
       "      <td>...</td>\n",
       "      <td>Jersey Basic</td>\n",
       "      <td>A</td>\n",
       "      <td>Ladieswear</td>\n",
       "      <td>1</td>\n",
       "      <td>Ladieswear</td>\n",
       "      <td>16</td>\n",
       "      <td>Womens Everyday Basics</td>\n",
       "      <td>1002</td>\n",
       "      <td>Jersey Basic</td>\n",
       "      <td>Jersey top with narrow shoulder straps.</td>\n",
       "    </tr>\n",
       "    <tr>\n",
       "      <th>1</th>\n",
       "      <td>0108775044</td>\n",
       "      <td>108775</td>\n",
       "      <td>Strap top</td>\n",
       "      <td>253</td>\n",
       "      <td>Vest top</td>\n",
       "      <td>Garment Upper body</td>\n",
       "      <td>1010016</td>\n",
       "      <td>Solid</td>\n",
       "      <td>10</td>\n",
       "      <td>White</td>\n",
       "      <td>...</td>\n",
       "      <td>Jersey Basic</td>\n",
       "      <td>A</td>\n",
       "      <td>Ladieswear</td>\n",
       "      <td>1</td>\n",
       "      <td>Ladieswear</td>\n",
       "      <td>16</td>\n",
       "      <td>Womens Everyday Basics</td>\n",
       "      <td>1002</td>\n",
       "      <td>Jersey Basic</td>\n",
       "      <td>Jersey top with narrow shoulder straps.</td>\n",
       "    </tr>\n",
       "    <tr>\n",
       "      <th>2</th>\n",
       "      <td>0108775051</td>\n",
       "      <td>108775</td>\n",
       "      <td>Strap top (1)</td>\n",
       "      <td>253</td>\n",
       "      <td>Vest top</td>\n",
       "      <td>Garment Upper body</td>\n",
       "      <td>1010017</td>\n",
       "      <td>Stripe</td>\n",
       "      <td>11</td>\n",
       "      <td>Off White</td>\n",
       "      <td>...</td>\n",
       "      <td>Jersey Basic</td>\n",
       "      <td>A</td>\n",
       "      <td>Ladieswear</td>\n",
       "      <td>1</td>\n",
       "      <td>Ladieswear</td>\n",
       "      <td>16</td>\n",
       "      <td>Womens Everyday Basics</td>\n",
       "      <td>1002</td>\n",
       "      <td>Jersey Basic</td>\n",
       "      <td>Jersey top with narrow shoulder straps.</td>\n",
       "    </tr>\n",
       "    <tr>\n",
       "      <th>3</th>\n",
       "      <td>0110065001</td>\n",
       "      <td>110065</td>\n",
       "      <td>OP T-shirt (Idro)</td>\n",
       "      <td>306</td>\n",
       "      <td>Bra</td>\n",
       "      <td>Underwear</td>\n",
       "      <td>1010016</td>\n",
       "      <td>Solid</td>\n",
       "      <td>9</td>\n",
       "      <td>Black</td>\n",
       "      <td>...</td>\n",
       "      <td>Clean Lingerie</td>\n",
       "      <td>B</td>\n",
       "      <td>Lingeries/Tights</td>\n",
       "      <td>1</td>\n",
       "      <td>Ladieswear</td>\n",
       "      <td>61</td>\n",
       "      <td>Womens Lingerie</td>\n",
       "      <td>1017</td>\n",
       "      <td>Under-, Nightwear</td>\n",
       "      <td>Microfibre T-shirt bra with underwired, moulde...</td>\n",
       "    </tr>\n",
       "    <tr>\n",
       "      <th>4</th>\n",
       "      <td>0110065002</td>\n",
       "      <td>110065</td>\n",
       "      <td>OP T-shirt (Idro)</td>\n",
       "      <td>306</td>\n",
       "      <td>Bra</td>\n",
       "      <td>Underwear</td>\n",
       "      <td>1010016</td>\n",
       "      <td>Solid</td>\n",
       "      <td>10</td>\n",
       "      <td>White</td>\n",
       "      <td>...</td>\n",
       "      <td>Clean Lingerie</td>\n",
       "      <td>B</td>\n",
       "      <td>Lingeries/Tights</td>\n",
       "      <td>1</td>\n",
       "      <td>Ladieswear</td>\n",
       "      <td>61</td>\n",
       "      <td>Womens Lingerie</td>\n",
       "      <td>1017</td>\n",
       "      <td>Under-, Nightwear</td>\n",
       "      <td>Microfibre T-shirt bra with underwired, moulde...</td>\n",
       "    </tr>\n",
       "  </tbody>\n",
       "</table>\n",
       "<p>5 rows × 25 columns</p>\n",
       "</div>"
      ],
      "text/plain": [
       "   article_id  product_code          prod_name  product_type_no  \\\n",
       "0  0108775015        108775          Strap top              253   \n",
       "1  0108775044        108775          Strap top              253   \n",
       "2  0108775051        108775      Strap top (1)              253   \n",
       "3  0110065001        110065  OP T-shirt (Idro)              306   \n",
       "4  0110065002        110065  OP T-shirt (Idro)              306   \n",
       "\n",
       "  product_type_name  product_group_name  graphical_appearance_no  \\\n",
       "0          Vest top  Garment Upper body                  1010016   \n",
       "1          Vest top  Garment Upper body                  1010016   \n",
       "2          Vest top  Garment Upper body                  1010017   \n",
       "3               Bra           Underwear                  1010016   \n",
       "4               Bra           Underwear                  1010016   \n",
       "\n",
       "  graphical_appearance_name  colour_group_code colour_group_name  ...  \\\n",
       "0                     Solid                  9             Black  ...   \n",
       "1                     Solid                 10             White  ...   \n",
       "2                    Stripe                 11         Off White  ...   \n",
       "3                     Solid                  9             Black  ...   \n",
       "4                     Solid                 10             White  ...   \n",
       "\n",
       "   department_name index_code        index_name index_group_no  \\\n",
       "0     Jersey Basic          A        Ladieswear              1   \n",
       "1     Jersey Basic          A        Ladieswear              1   \n",
       "2     Jersey Basic          A        Ladieswear              1   \n",
       "3   Clean Lingerie          B  Lingeries/Tights              1   \n",
       "4   Clean Lingerie          B  Lingeries/Tights              1   \n",
       "\n",
       "   index_group_name section_no            section_name garment_group_no  \\\n",
       "0        Ladieswear         16  Womens Everyday Basics             1002   \n",
       "1        Ladieswear         16  Womens Everyday Basics             1002   \n",
       "2        Ladieswear         16  Womens Everyday Basics             1002   \n",
       "3        Ladieswear         61         Womens Lingerie             1017   \n",
       "4        Ladieswear         61         Womens Lingerie             1017   \n",
       "\n",
       "   garment_group_name                                        detail_desc  \n",
       "0        Jersey Basic            Jersey top with narrow shoulder straps.  \n",
       "1        Jersey Basic            Jersey top with narrow shoulder straps.  \n",
       "2        Jersey Basic            Jersey top with narrow shoulder straps.  \n",
       "3   Under-, Nightwear  Microfibre T-shirt bra with underwired, moulde...  \n",
       "4   Under-, Nightwear  Microfibre T-shirt bra with underwired, moulde...  \n",
       "\n",
       "[5 rows x 25 columns]"
      ]
     },
     "execution_count": 5,
     "metadata": {},
     "output_type": "execute_result"
    }
   ],
   "source": [
    "article_df = pd.read_csv(data_dir/'articles.csv')\n",
    "\n",
    "# add 0 in article_id column (string) similar to train0\n",
    "article_df['article_id'] = article_df['article_id'].astype(str)\n",
    "article_df['article_id'] = article_df['article_id'].apply(lambda x: x.zfill(10))\n",
    "article_df.head()"
   ]
  },
  {
   "cell_type": "markdown",
   "id": "8d57857b",
   "metadata": {
    "papermill": {
     "duration": 0.02202,
     "end_time": "2022-04-30T17:37:31.822183",
     "exception": false,
     "start_time": "2022-04-30T17:37:31.800163",
     "status": "completed"
    },
    "tags": []
   },
   "source": [
    "We select only two features for training. Also generate data for embedding in both query and candidate models.\n"
   ]
  },
  {
   "cell_type": "code",
   "execution_count": 6,
   "id": "34e98fb6",
   "metadata": {
    "_kg_hide-output": true,
    "execution": {
     "iopub.execute_input": "2022-04-30T17:37:31.874863Z",
     "iopub.status.busy": "2022-04-30T17:37:31.873682Z",
     "iopub.status.idle": "2022-04-30T17:37:32.685270Z",
     "shell.execute_reply": "2022-04-30T17:37:32.681891Z"
    },
    "papermill": {
     "duration": 0.842681,
     "end_time": "2022-04-30T17:37:32.688151",
     "exception": false,
     "start_time": "2022-04-30T17:37:31.845470",
     "status": "completed"
    },
    "tags": []
   },
   "outputs": [
    {
     "name": "stderr",
     "output_type": "stream",
     "text": [
      "2022-04-30 17:37:32.604611: W tensorflow/stream_executor/platform/default/dso_loader.cc:64] Could not load dynamic library 'libcuda.so.1'; dlerror: libcuda.so.1: cannot open shared object file: No such file or directory; LD_LIBRARY_PATH: /usr/local/cuda/lib64:/usr/local/cuda/lib:/usr/local/lib/x86_64-linux-gnu:/usr/local/nvidia/lib:/usr/local/nvidia/lib64:\n",
      "2022-04-30 17:37:32.604684: W tensorflow/stream_executor/cuda/cuda_driver.cc:269] failed call to cuInit: UNKNOWN ERROR (303)\n",
      "2022-04-30 17:37:32.604730: I tensorflow/stream_executor/cuda/cuda_diagnostics.cc:156] kernel driver does not appear to be running on this host (d1a352d665c7): /proc/driver/nvidia/version does not exist\n",
      "2022-04-30 17:37:32.608826: I tensorflow/core/platform/cpu_feature_guard.cc:151] This TensorFlow binary is optimized with oneAPI Deep Neural Network Library (oneDNN) to use the following CPU instructions in performance-critical operations:  AVX2 FMA\n",
      "To enable them in other operations, rebuild TensorFlow with the appropriate compiler flags.\n"
     ]
    }
   ],
   "source": [
    "#get data for embedding and task\n",
    "\n",
    "unique_customer_ids = customer_df.customer_id.unique()\n",
    "unique_article_ids = article_df.article_id.unique()\n",
    "\n",
    "article_ds = tf.data.Dataset.from_tensor_slices(dict(article_df[['article_id']]))\n",
    "articles = article_ds.map(lambda x: x['article_id'])\n"
   ]
  },
  {
   "cell_type": "markdown",
   "id": "c98b2e4e",
   "metadata": {
    "papermill": {
     "duration": 0.027553,
     "end_time": "2022-04-30T17:37:32.744151",
     "exception": false,
     "start_time": "2022-04-30T17:37:32.716598",
     "status": "completed"
    },
    "tags": []
   },
   "source": [
    "# Query, Candidate and H&M model "
   ]
  },
  {
   "cell_type": "code",
   "execution_count": 7,
   "id": "62393654",
   "metadata": {
    "execution": {
     "iopub.execute_input": "2022-04-30T17:37:32.795157Z",
     "iopub.status.busy": "2022-04-30T17:37:32.794149Z",
     "iopub.status.idle": "2022-04-30T17:37:34.256278Z",
     "shell.execute_reply": "2022-04-30T17:37:34.255217Z"
    },
    "papermill": {
     "duration": 1.490855,
     "end_time": "2022-04-30T17:37:34.258838",
     "exception": false,
     "start_time": "2022-04-30T17:37:32.767983",
     "status": "completed"
    },
    "tags": []
   },
   "outputs": [],
   "source": [
    "embedding_dimension = 64\n",
    "\n",
    "# Query Model\n",
    "customer_model = tf.keras.Sequential([\n",
    "  tf.keras.layers.StringLookup(\n",
    "      vocabulary=unique_customer_ids, mask_token=None),  \n",
    "  tf.keras.layers.Embedding(len(unique_customer_ids) + 1, embedding_dimension)\n",
    "])"
   ]
  },
  {
   "cell_type": "code",
   "execution_count": 8,
   "id": "c4025aeb",
   "metadata": {
    "execution": {
     "iopub.execute_input": "2022-04-30T17:37:34.310374Z",
     "iopub.status.busy": "2022-04-30T17:37:34.310098Z",
     "iopub.status.idle": "2022-04-30T17:37:34.359740Z",
     "shell.execute_reply": "2022-04-30T17:37:34.358524Z"
    },
    "papermill": {
     "duration": 0.078002,
     "end_time": "2022-04-30T17:37:34.362335",
     "exception": false,
     "start_time": "2022-04-30T17:37:34.284333",
     "status": "completed"
    },
    "tags": []
   },
   "outputs": [],
   "source": [
    "# Candidate Model\n",
    "article_model = tf.keras.Sequential([\n",
    "  tf.keras.layers.StringLookup(\n",
    "      vocabulary=unique_article_ids, mask_token=None),\n",
    "  tf.keras.layers.Embedding(len(unique_article_ids) + 1, embedding_dimension)\n",
    "])"
   ]
  },
  {
   "cell_type": "code",
   "execution_count": 9,
   "id": "d1638168",
   "metadata": {
    "execution": {
     "iopub.execute_input": "2022-04-30T17:37:34.408777Z",
     "iopub.status.busy": "2022-04-30T17:37:34.408481Z",
     "iopub.status.idle": "2022-04-30T17:37:34.416918Z",
     "shell.execute_reply": "2022-04-30T17:37:34.416208Z"
    },
    "papermill": {
     "duration": 0.033981,
     "end_time": "2022-04-30T17:37:34.418863",
     "exception": false,
     "start_time": "2022-04-30T17:37:34.384882",
     "status": "completed"
    },
    "tags": []
   },
   "outputs": [],
   "source": [
    "# Retrieval Model\n",
    "\n",
    "class HandMModel(tfrs.Model):\n",
    "    \n",
    "    def __init__(self, customer_model, article_model):\n",
    "        super().__init__()\n",
    "        self.article_model: tf.keras.Model = article_model\n",
    "        self.customer_model: tf.keras.Model = customer_model\n",
    "        self.task = tfrs.tasks.Retrieval(\n",
    "        metrics=tfrs.metrics.FactorizedTopK(\n",
    "            candidates=articles.batch(128).map(self.article_model),            \n",
    "            ),\n",
    "        )        \n",
    "\n",
    "    def compute_loss(self, features: Dict[str, tf.Tensor], training=False) -> tf.Tensor:\n",
    "    \n",
    "        customer_embeddings = self.customer_model(features[\"customer_id\"])    \n",
    "        article_embeddings = self.article_model(features[\"article_id\"])\n",
    "\n",
    "        # The task computes the loss and the metrics.\n",
    "        return self.task(customer_embeddings, article_embeddings,compute_metrics=not training)"
   ]
  },
  {
   "cell_type": "markdown",
   "id": "0ae773be",
   "metadata": {
    "papermill": {
     "duration": 0.022256,
     "end_time": "2022-04-30T17:37:34.466155",
     "exception": false,
     "start_time": "2022-04-30T17:37:34.443899",
     "status": "completed"
    },
    "tags": []
   },
   "source": [
    "# Train & Validate"
   ]
  },
  {
   "cell_type": "code",
   "execution_count": 10,
   "id": "9900f6f1",
   "metadata": {
    "execution": {
     "iopub.execute_input": "2022-04-30T17:37:34.513314Z",
     "iopub.status.busy": "2022-04-30T17:37:34.513004Z",
     "iopub.status.idle": "2022-04-30T17:37:34.885391Z",
     "shell.execute_reply": "2022-04-30T17:37:34.884307Z"
    },
    "papermill": {
     "duration": 0.399598,
     "end_time": "2022-04-30T17:37:34.888252",
     "exception": false,
     "start_time": "2022-04-30T17:37:34.488654",
     "status": "completed"
    },
    "tags": []
   },
   "outputs": [],
   "source": [
    "model = HandMModel(customer_model, article_model)\n",
    "model.compile(optimizer=tf.keras.optimizers.Adagrad(learning_rate=0.1))"
   ]
  },
  {
   "cell_type": "code",
   "execution_count": 11,
   "id": "dd0471c2",
   "metadata": {
    "_kg_hide-output": true,
    "execution": {
     "iopub.execute_input": "2022-04-30T17:37:34.936667Z",
     "iopub.status.busy": "2022-04-30T17:37:34.936315Z",
     "iopub.status.idle": "2022-04-30T17:37:35.417899Z",
     "shell.execute_reply": "2022-04-30T17:37:35.416785Z"
    },
    "papermill": {
     "duration": 0.508485,
     "end_time": "2022-04-30T17:37:35.420230",
     "exception": false,
     "start_time": "2022-04-30T17:37:34.911745",
     "status": "completed"
    },
    "tags": []
   },
   "outputs": [
    {
     "data": {
      "text/plain": [
       "'\\n\\nhistory = model.fit(\\n    train_ds, \\n    validation_data = test_ds,\\n    validation_freq=5,\\n    epochs=num_epochs,\\n    verbose=1)\\n\\n'"
      ]
     },
     "execution_count": 11,
     "metadata": {},
     "output_type": "execute_result"
    }
   ],
   "source": [
    "train = train0[train0['t_dat']<='2020-09-15']\n",
    "test = train0[train0['t_dat'] >='2020-09-15']\n",
    "\n",
    "train_ds = tf.data.Dataset.from_tensor_slices(dict(train[['customer_id','article_id']])).shuffle(100_000).batch(256).cache()\n",
    "test_ds = tf.data.Dataset.from_tensor_slices(dict(test[['customer_id','article_id']])).batch(256).cache()\n",
    "\n",
    "num_epochs = 5\n",
    "\n",
    "'''\n",
    "\n",
    "history = model.fit(\n",
    "    train_ds, \n",
    "    validation_data = test_ds,\n",
    "    validation_freq=5,\n",
    "    epochs=num_epochs,\n",
    "    verbose=1)\n",
    "\n",
    "'''\n"
   ]
  },
  {
   "cell_type": "markdown",
   "id": "39a828ba",
   "metadata": {
    "papermill": {
     "duration": 0.024439,
     "end_time": "2022-04-30T17:37:35.470960",
     "exception": false,
     "start_time": "2022-04-30T17:37:35.446521",
     "status": "completed"
    },
    "tags": []
   },
   "source": [
    "**A word on metrics:**\n",
    "\n",
    "Calculation of factorized top K metric is highly time intensive. Even with the option 'compute_metrics=not training' and \n",
    "computing validation metrics only every 5 epochs, it still takes a lot of time. You can check this by running above model. Another option \n",
    "may be by reducing the number of retrievals from standard 100.(may cost accuracy?)\n",
    "\n",
    "self.task = tfrs.tasks.Retrieval(\n",
    "        metrics=tfrs.metrics.FactorizedTopK(\n",
    "        candidates=articles.batch(128).map(self.article_model),\n",
    "        k = (any value less than 100)\n",
    "        )"
   ]
  },
  {
   "cell_type": "markdown",
   "id": "e9f4d174",
   "metadata": {
    "papermill": {
     "duration": 0.025245,
     "end_time": "2022-04-30T17:37:35.521089",
     "exception": false,
     "start_time": "2022-04-30T17:37:35.495844",
     "status": "completed"
    },
    "tags": []
   },
   "source": [
    "# Retrieve & Submit"
   ]
  },
  {
   "cell_type": "code",
   "execution_count": 12,
   "id": "5be94c97",
   "metadata": {
    "execution": {
     "iopub.execute_input": "2022-04-30T17:37:35.574105Z",
     "iopub.status.busy": "2022-04-30T17:37:35.573517Z",
     "iopub.status.idle": "2022-04-30T17:39:10.765325Z",
     "shell.execute_reply": "2022-04-30T17:39:10.764220Z"
    },
    "papermill": {
     "duration": 95.220725,
     "end_time": "2022-04-30T17:39:10.767906",
     "exception": false,
     "start_time": "2022-04-30T17:37:35.547181",
     "status": "completed"
    },
    "tags": []
   },
   "outputs": [
    {
     "name": "stdout",
     "output_type": "stream",
     "text": [
      "Epoch 1/5\n",
      "3119/3119 [==============================] - 23s 7ms/step - factorized_top_k/top_1_categorical_accuracy: 0.0000e+00 - factorized_top_k/top_5_categorical_accuracy: 0.0000e+00 - factorized_top_k/top_10_categorical_accuracy: 0.0000e+00 - factorized_top_k/top_50_categorical_accuracy: 0.0000e+00 - factorized_top_k/top_100_categorical_accuracy: 0.0000e+00 - loss: 1344.6974 - regularization_loss: 0.0000e+00 - total_loss: 1344.6974\n",
      "Epoch 2/5\n",
      "3119/3119 [==============================] - 16s 5ms/step - factorized_top_k/top_1_categorical_accuracy: 0.0000e+00 - factorized_top_k/top_5_categorical_accuracy: 0.0000e+00 - factorized_top_k/top_10_categorical_accuracy: 0.0000e+00 - factorized_top_k/top_50_categorical_accuracy: 0.0000e+00 - factorized_top_k/top_100_categorical_accuracy: 0.0000e+00 - loss: 972.1485 - regularization_loss: 0.0000e+00 - total_loss: 972.1485\n",
      "Epoch 3/5\n",
      "3119/3119 [==============================] - 16s 5ms/step - factorized_top_k/top_1_categorical_accuracy: 0.0000e+00 - factorized_top_k/top_5_categorical_accuracy: 0.0000e+00 - factorized_top_k/top_10_categorical_accuracy: 0.0000e+00 - factorized_top_k/top_50_categorical_accuracy: 0.0000e+00 - factorized_top_k/top_100_categorical_accuracy: 0.0000e+00 - loss: 635.5663 - regularization_loss: 0.0000e+00 - total_loss: 635.5663\n",
      "Epoch 4/5\n",
      "3119/3119 [==============================] - 16s 5ms/step - factorized_top_k/top_1_categorical_accuracy: 0.0000e+00 - factorized_top_k/top_5_categorical_accuracy: 0.0000e+00 - factorized_top_k/top_10_categorical_accuracy: 0.0000e+00 - factorized_top_k/top_50_categorical_accuracy: 0.0000e+00 - factorized_top_k/top_100_categorical_accuracy: 0.0000e+00 - loss: 437.1193 - regularization_loss: 0.0000e+00 - total_loss: 437.1193\n",
      "Epoch 5/5\n",
      "3119/3119 [==============================] - 16s 5ms/step - factorized_top_k/top_1_categorical_accuracy: 0.0000e+00 - factorized_top_k/top_5_categorical_accuracy: 0.0000e+00 - factorized_top_k/top_10_categorical_accuracy: 0.0000e+00 - factorized_top_k/top_50_categorical_accuracy: 0.0000e+00 - factorized_top_k/top_100_categorical_accuracy: 0.0000e+00 - loss: 324.0299 - regularization_loss: 0.0000e+00 - total_loss: 324.0299\n"
     ]
    }
   ],
   "source": [
    "# train without validation\n",
    "\n",
    "train_ds = tf.data.Dataset.from_tensor_slices(dict(train0[['customer_id','article_id']])).shuffle(100_000).batch(256).cache()\n",
    "\n",
    "num_epochs = 5\n",
    "\n",
    "history = model.fit(\n",
    "    train_ds,    \n",
    "    epochs=num_epochs,\n",
    "    verbose=1)"
   ]
  },
  {
   "cell_type": "code",
   "execution_count": 13,
   "id": "0c4aa0e7",
   "metadata": {
    "_kg_hide-output": true,
    "execution": {
     "iopub.execute_input": "2022-04-30T17:39:12.119495Z",
     "iopub.status.busy": "2022-04-30T17:39:12.118571Z",
     "iopub.status.idle": "2022-04-30T17:39:19.020642Z",
     "shell.execute_reply": "2022-04-30T17:39:19.019491Z"
    },
    "papermill": {
     "duration": 7.599396,
     "end_time": "2022-04-30T17:39:19.023044",
     "exception": false,
     "start_time": "2022-04-30T17:39:11.423648",
     "status": "completed"
    },
    "tags": []
   },
   "outputs": [
    {
     "name": "stderr",
     "output_type": "stream",
     "text": [
      "[libprotobuf WARNING external/com_google_protobuf/src/google/protobuf/text_format.cc:339] Warning parsing text-format research_scann.ScannConfig: 43:11: text format contains deprecated field \"min_cluster_size\"\n"
     ]
    },
    {
     "data": {
      "text/plain": [
       "<tensorflow_recommenders.layers.factorized_top_k.ScaNN at 0x7f753a769950>"
      ]
     },
     "execution_count": 13,
     "metadata": {},
     "output_type": "execute_result"
    }
   ],
   "source": [
    "scann_index = tfrs.layers.factorized_top_k.ScaNN(model.customer_model, k = 12 )\n",
    "scann_index.index_from_dataset(\n",
    "  tf.data.Dataset.zip((articles.batch(100), articles.batch(100).map(model.article_model)))\n",
    ")"
   ]
  },
  {
   "cell_type": "code",
   "execution_count": 14,
   "id": "df8bf3c4",
   "metadata": {
    "_kg_hide-output": true,
    "execution": {
     "iopub.execute_input": "2022-04-30T17:39:20.312955Z",
     "iopub.status.busy": "2022-04-30T17:39:20.312004Z",
     "iopub.status.idle": "2022-04-30T17:40:11.148621Z",
     "shell.execute_reply": "2022-04-30T17:40:11.147645Z"
    },
    "papermill": {
     "duration": 51.485014,
     "end_time": "2022-04-30T17:40:11.151296",
     "exception": false,
     "start_time": "2022-04-30T17:39:19.666282",
     "status": "completed"
    },
    "tags": []
   },
   "outputs": [
    {
     "name": "stderr",
     "output_type": "stream",
     "text": [
      "2022-04-30 17:39:37.908181: W tensorflow/core/framework/cpu_allocator_impl.cc:82] Allocation of 395130240 exceeds 10% of free system memory.\n"
     ]
    }
   ],
   "source": [
    "sub = pd.read_csv(data_dir/'sample_submission.csv')\n",
    "_,articles = scann_index(sub.customer_id.values)\n",
    "preds = articles.numpy().astype(str)\n",
    "preds = pd.Series(map(' '.join, preds,))\n",
    "sub['prediction'] = preds\n",
    "sub.to_csv('submission.csv',index=False)"
   ]
  },
  {
   "cell_type": "markdown",
   "id": "48512821",
   "metadata": {
    "papermill": {
     "duration": 0.667152,
     "end_time": "2022-04-30T17:40:12.469097",
     "exception": false,
     "start_time": "2022-04-30T17:40:11.801945",
     "status": "completed"
    },
    "tags": []
   },
   "source": [
    "This notebook is based on recommender models in the Tensorflow official site. This model can be further refined by adding more features, deep layers and with different model hyperparameters. Examples can be referred at https://www.tensorflow.org/recommenders\n",
    "\n",
    "**Thank you for your time!**\n"
   ]
  }
 ],
 "metadata": {
  "kernelspec": {
   "display_name": "Python 3",
   "language": "python",
   "name": "python3"
  },
  "language_info": {
   "codemirror_mode": {
    "name": "ipython",
    "version": 3
   },
   "file_extension": ".py",
   "mimetype": "text/x-python",
   "name": "python",
   "nbconvert_exporter": "python",
   "pygments_lexer": "ipython3",
   "version": "3.7.12"
  },
  "papermill": {
   "default_parameters": {},
   "duration": 380.854924,
   "end_time": "2022-04-30T17:40:15.835013",
   "environment_variables": {},
   "exception": null,
   "input_path": "__notebook__.ipynb",
   "output_path": "__notebook__.ipynb",
   "parameters": {},
   "start_time": "2022-04-30T17:33:54.980089",
   "version": "2.3.4"
  }
 },
 "nbformat": 4,
 "nbformat_minor": 5
}
