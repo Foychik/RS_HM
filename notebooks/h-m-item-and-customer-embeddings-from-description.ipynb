{
 "cells": [
  {
   "cell_type": "markdown",
   "id": "5cb622b7",
   "metadata": {
    "papermill": {
     "duration": 0.016757,
     "end_time": "2022-05-18T15:37:44.153706",
     "exception": false,
     "start_time": "2022-05-18T15:37:44.136949",
     "status": "completed"
    },
    "tags": []
   },
   "source": [
    "This code build embeddings for customer and article from text description embeddings. Customer embedding are averaged across the dimension of the embeddings.\n"
   ]
  },
  {
   "cell_type": "code",
   "execution_count": 1,
   "id": "da7dc69d",
   "metadata": {
    "_cell_guid": "b1076dfc-b9ad-4769-8c92-a6c4dae69d19",
    "_uuid": "8f2839f25d086af736a60e9eeb907d3b93b6e0e5",
    "execution": {
     "iopub.execute_input": "2022-05-18T15:37:44.198191Z",
     "iopub.status.busy": "2022-05-18T15:37:44.197319Z",
     "iopub.status.idle": "2022-05-18T15:37:53.359639Z",
     "shell.execute_reply": "2022-05-18T15:37:53.360194Z",
     "shell.execute_reply.started": "2022-05-18T15:34:46.457222Z"
    },
    "papermill": {
     "duration": 9.189557,
     "end_time": "2022-05-18T15:37:53.360495",
     "exception": false,
     "start_time": "2022-05-18T15:37:44.170938",
     "status": "completed"
    },
    "tags": []
   },
   "outputs": [],
   "source": [
    "import tensorflow_hub as hub\n",
    "import numpy as np\n",
    "import pandas as pd\n",
    "import pickle\n",
    "import warnings\n",
    "import matplotlib.pyplot as plt\n",
    "warnings.filterwarnings('ignore')\n",
    "\n",
    "path = '../input/h-and-m-personalized-fashion-recommendations/articles.csv'\n",
    " \n",
    "df = pd.read_csv(path, dtype={'article_id':str}).astype(str)"
   ]
  },
  {
   "cell_type": "code",
   "execution_count": 2,
   "id": "aa4e792b",
   "metadata": {
    "execution": {
     "iopub.execute_input": "2022-05-18T15:37:53.396685Z",
     "iopub.status.busy": "2022-05-18T15:37:53.395775Z",
     "iopub.status.idle": "2022-05-18T15:38:14.549543Z",
     "shell.execute_reply": "2022-05-18T15:38:14.548955Z",
     "shell.execute_reply.started": "2022-05-18T15:34:54.794418Z"
    },
    "papermill": {
     "duration": 21.17412,
     "end_time": "2022-05-18T15:38:14.549706",
     "exception": false,
     "start_time": "2022-05-18T15:37:53.375586",
     "status": "completed"
    },
    "tags": []
   },
   "outputs": [
    {
     "name": "stderr",
     "output_type": "stream",
     "text": [
      "2022-05-18 15:38:05.178698: I tensorflow/stream_executor/cuda/cuda_gpu_executor.cc:937] successful NUMA node read from SysFS had negative value (-1), but there must be at least one NUMA node, so returning NUMA node zero\n",
      "2022-05-18 15:38:05.323762: I tensorflow/stream_executor/cuda/cuda_gpu_executor.cc:937] successful NUMA node read from SysFS had negative value (-1), but there must be at least one NUMA node, so returning NUMA node zero\n",
      "2022-05-18 15:38:05.324790: I tensorflow/stream_executor/cuda/cuda_gpu_executor.cc:937] successful NUMA node read from SysFS had negative value (-1), but there must be at least one NUMA node, so returning NUMA node zero\n",
      "2022-05-18 15:38:05.326146: I tensorflow/core/platform/cpu_feature_guard.cc:142] This TensorFlow binary is optimized with oneAPI Deep Neural Network Library (oneDNN) to use the following CPU instructions in performance-critical operations:  AVX2 AVX512F FMA\n",
      "To enable them in other operations, rebuild TensorFlow with the appropriate compiler flags.\n",
      "2022-05-18 15:38:05.327581: I tensorflow/stream_executor/cuda/cuda_gpu_executor.cc:937] successful NUMA node read from SysFS had negative value (-1), but there must be at least one NUMA node, so returning NUMA node zero\n",
      "2022-05-18 15:38:05.328457: I tensorflow/stream_executor/cuda/cuda_gpu_executor.cc:937] successful NUMA node read from SysFS had negative value (-1), but there must be at least one NUMA node, so returning NUMA node zero\n",
      "2022-05-18 15:38:05.329485: I tensorflow/stream_executor/cuda/cuda_gpu_executor.cc:937] successful NUMA node read from SysFS had negative value (-1), but there must be at least one NUMA node, so returning NUMA node zero\n",
      "2022-05-18 15:38:08.643727: I tensorflow/stream_executor/cuda/cuda_gpu_executor.cc:937] successful NUMA node read from SysFS had negative value (-1), but there must be at least one NUMA node, so returning NUMA node zero\n",
      "2022-05-18 15:38:08.644703: I tensorflow/stream_executor/cuda/cuda_gpu_executor.cc:937] successful NUMA node read from SysFS had negative value (-1), but there must be at least one NUMA node, so returning NUMA node zero\n",
      "2022-05-18 15:38:08.645522: I tensorflow/stream_executor/cuda/cuda_gpu_executor.cc:937] successful NUMA node read from SysFS had negative value (-1), but there must be at least one NUMA node, so returning NUMA node zero\n",
      "2022-05-18 15:38:08.646245: I tensorflow/core/common_runtime/gpu/gpu_device.cc:1510] Created device /job:localhost/replica:0/task:0/device:GPU:0 with 15403 MB memory:  -> device: 0, name: Tesla P100-PCIE-16GB, pci bus id: 0000:00:04.0, compute capability: 6.0\n",
      "2022-05-18 15:38:11.730324: I tensorflow/compiler/mlir/mlir_graph_optimization_pass.cc:185] None of the MLIR Optimization Passes are enabled (registered 2)\n"
     ]
    }
   ],
   "source": [
    "#@title Load the Universal Sentence Encoder's TF Hub module\n",
    "\n",
    "module_url = \"https://tfhub.dev/google/universal-sentence-encoder/4\" #@param [\"https://tfhub.dev/google/universal-sentence-encoder/4\", \"https://tfhub.dev/google/universal-sentence-encoder-large/5\"]\n",
    "model = hub.load(module_url)"
   ]
  },
  {
   "cell_type": "code",
   "execution_count": 3,
   "id": "ec30cf8a",
   "metadata": {
    "execution": {
     "iopub.execute_input": "2022-05-18T15:38:14.608767Z",
     "iopub.status.busy": "2022-05-18T15:38:14.607834Z",
     "iopub.status.idle": "2022-05-18T15:38:14.643353Z",
     "shell.execute_reply": "2022-05-18T15:38:14.642734Z",
     "shell.execute_reply.started": "2022-05-18T15:35:15.480047Z"
    },
    "papermill": {
     "duration": 0.076229,
     "end_time": "2022-05-18T15:38:14.643491",
     "exception": false,
     "start_time": "2022-05-18T15:38:14.567262",
     "status": "completed"
    },
    "tags": []
   },
   "outputs": [],
   "source": [
    "desc = df['detail_desc'].unique()"
   ]
  },
  {
   "cell_type": "code",
   "execution_count": 4,
   "id": "8e0d18dc",
   "metadata": {
    "execution": {
     "iopub.execute_input": "2022-05-18T15:38:14.687328Z",
     "iopub.status.busy": "2022-05-18T15:38:14.683216Z",
     "iopub.status.idle": "2022-05-18T15:38:22.738232Z",
     "shell.execute_reply": "2022-05-18T15:38:22.738709Z",
     "shell.execute_reply.started": "2022-05-18T15:35:15.536979Z"
    },
    "papermill": {
     "duration": 8.078876,
     "end_time": "2022-05-18T15:38:22.738915",
     "exception": false,
     "start_time": "2022-05-18T15:38:14.660039",
     "status": "completed"
    },
    "tags": []
   },
   "outputs": [
    {
     "name": "stdout",
     "output_type": "stream",
     "text": [
      "CPU times: user 7.05 s, sys: 989 ms, total: 8.04 s\n",
      "Wall time: 8.05 s\n"
     ]
    }
   ],
   "source": [
    "%%time\n",
    "embeds = model(desc)"
   ]
  },
  {
   "cell_type": "code",
   "execution_count": 5,
   "id": "0a66d5e6",
   "metadata": {
    "execution": {
     "iopub.execute_input": "2022-05-18T15:38:22.776719Z",
     "iopub.status.busy": "2022-05-18T15:38:22.773894Z",
     "iopub.status.idle": "2022-05-18T15:38:37.157346Z",
     "shell.execute_reply": "2022-05-18T15:38:37.156822Z",
     "shell.execute_reply.started": "2022-05-18T15:35:23.186549Z"
    },
    "papermill": {
     "duration": 14.402476,
     "end_time": "2022-05-18T15:38:37.157489",
     "exception": false,
     "start_time": "2022-05-18T15:38:22.755013",
     "status": "completed"
    },
    "tags": []
   },
   "outputs": [],
   "source": [
    "desc_embedding_pairs = {i:embed.numpy() for i, embed in zip(desc, embeds)}"
   ]
  },
  {
   "cell_type": "code",
   "execution_count": 6,
   "id": "b4bd4613",
   "metadata": {
    "execution": {
     "iopub.execute_input": "2022-05-18T15:38:37.298709Z",
     "iopub.status.busy": "2022-05-18T15:38:37.297869Z",
     "iopub.status.idle": "2022-05-18T15:38:37.339598Z",
     "shell.execute_reply": "2022-05-18T15:38:37.339108Z",
     "shell.execute_reply.started": "2022-05-18T15:35:37.348939Z"
    },
    "papermill": {
     "duration": 0.165783,
     "end_time": "2022-05-18T15:38:37.339737",
     "exception": false,
     "start_time": "2022-05-18T15:38:37.173954",
     "status": "completed"
    },
    "tags": []
   },
   "outputs": [],
   "source": [
    "df = df[['article_id', 'detail_desc']]"
   ]
  },
  {
   "cell_type": "code",
   "execution_count": 7,
   "id": "96e8177f",
   "metadata": {
    "execution": {
     "iopub.execute_input": "2022-05-18T15:38:37.416812Z",
     "iopub.status.busy": "2022-05-18T15:38:37.415772Z",
     "iopub.status.idle": "2022-05-18T15:38:37.423262Z",
     "shell.execute_reply": "2022-05-18T15:38:37.422625Z",
     "shell.execute_reply.started": "2022-05-18T15:35:37.491460Z"
    },
    "papermill": {
     "duration": 0.067272,
     "end_time": "2022-05-18T15:38:37.423419",
     "exception": false,
     "start_time": "2022-05-18T15:38:37.356147",
     "status": "completed"
    },
    "tags": []
   },
   "outputs": [],
   "source": [
    "df['embeddings'] = df.detail_desc.map(desc_embedding_pairs)"
   ]
  },
  {
   "cell_type": "code",
   "execution_count": 8,
   "id": "53186557",
   "metadata": {
    "execution": {
     "iopub.execute_input": "2022-05-18T15:38:37.463796Z",
     "iopub.status.busy": "2022-05-18T15:38:37.462918Z",
     "iopub.status.idle": "2022-05-18T15:38:37.479167Z",
     "shell.execute_reply": "2022-05-18T15:38:37.478556Z",
     "shell.execute_reply.started": "2022-05-18T15:35:37.530301Z"
    },
    "papermill": {
     "duration": 0.03913,
     "end_time": "2022-05-18T15:38:37.479324",
     "exception": false,
     "start_time": "2022-05-18T15:38:37.440194",
     "status": "completed"
    },
    "tags": []
   },
   "outputs": [],
   "source": [
    "df = df[['article_id', 'embeddings']]"
   ]
  },
  {
   "cell_type": "code",
   "execution_count": 9,
   "id": "ccca65dc",
   "metadata": {
    "execution": {
     "iopub.execute_input": "2022-05-18T15:38:37.521949Z",
     "iopub.status.busy": "2022-05-18T15:38:37.520961Z",
     "iopub.status.idle": "2022-05-18T15:38:38.077372Z",
     "shell.execute_reply": "2022-05-18T15:38:38.076688Z",
     "shell.execute_reply.started": "2022-05-18T15:35:37.549715Z"
    },
    "papermill": {
     "duration": 0.580586,
     "end_time": "2022-05-18T15:38:38.077520",
     "exception": false,
     "start_time": "2022-05-18T15:38:37.496934",
     "status": "completed"
    },
    "tags": []
   },
   "outputs": [],
   "source": [
    "f = open('article_embeddings_from_text.pickle', 'wb')\n",
    "pickle.dump(df.values, f)"
   ]
  },
  {
   "cell_type": "code",
   "execution_count": 10,
   "id": "128729d6",
   "metadata": {
    "execution": {
     "iopub.execute_input": "2022-05-18T15:38:38.115308Z",
     "iopub.status.busy": "2022-05-18T15:38:38.114519Z",
     "iopub.status.idle": "2022-05-18T15:39:42.927964Z",
     "shell.execute_reply": "2022-05-18T15:39:42.926864Z",
     "shell.execute_reply.started": "2022-05-18T15:35:38.066132Z"
    },
    "papermill": {
     "duration": 64.834268,
     "end_time": "2022-05-18T15:39:42.928141",
     "exception": false,
     "start_time": "2022-05-18T15:38:38.093873",
     "status": "completed"
    },
    "tags": []
   },
   "outputs": [],
   "source": [
    "trans = pd.read_csv('../input/h-and-m-personalized-fashion-recommendations/transactions_train.csv',\n",
    "                    usecols=['customer_id', 'article_id'],\n",
    "                   dtype=str)"
   ]
  },
  {
   "cell_type": "code",
   "execution_count": 11,
   "id": "0700cf2e",
   "metadata": {
    "execution": {
     "iopub.execute_input": "2022-05-18T15:39:42.971765Z",
     "iopub.status.busy": "2022-05-18T15:39:42.970727Z",
     "iopub.status.idle": "2022-05-18T15:40:14.167479Z",
     "shell.execute_reply": "2022-05-18T15:40:14.168194Z",
     "shell.execute_reply.started": "2022-05-18T15:35:38.084688Z"
    },
    "papermill": {
     "duration": 31.222655,
     "end_time": "2022-05-18T15:40:14.168454",
     "exception": false,
     "start_time": "2022-05-18T15:39:42.945799",
     "status": "completed"
    },
    "tags": []
   },
   "outputs": [],
   "source": [
    "trans = trans.merge(df, on='article_id').drop('article_id', axis=1)"
   ]
  },
  {
   "cell_type": "code",
   "execution_count": 12,
   "id": "2bdc6f05",
   "metadata": {
    "execution": {
     "iopub.execute_input": "2022-05-18T15:40:14.380302Z",
     "iopub.status.busy": "2022-05-18T15:40:14.379167Z",
     "iopub.status.idle": "2022-05-18T15:44:44.802365Z",
     "shell.execute_reply": "2022-05-18T15:44:44.802850Z",
     "shell.execute_reply.started": "2022-05-18T15:35:38.140414Z"
    },
    "papermill": {
     "duration": 270.61653,
     "end_time": "2022-05-18T15:44:44.803027",
     "exception": false,
     "start_time": "2022-05-18T15:40:14.186497",
     "status": "completed"
    },
    "tags": []
   },
   "outputs": [
    {
     "name": "stdout",
     "output_type": "stream",
     "text": [
      "CPU times: user 4min 25s, sys: 4.45 s, total: 4min 29s\n",
      "Wall time: 4min 30s\n"
     ]
    }
   ],
   "source": [
    "%%time\n",
    "customer_embeddings = trans.groupby('customer_id').mean()"
   ]
  },
  {
   "cell_type": "code",
   "execution_count": 13,
   "id": "61b3a531",
   "metadata": {
    "execution": {
     "iopub.execute_input": "2022-05-18T15:44:44.839651Z",
     "iopub.status.busy": "2022-05-18T15:44:44.837915Z",
     "iopub.status.idle": "2022-05-18T15:44:44.840359Z",
     "shell.execute_reply": "2022-05-18T15:44:44.840808Z",
     "shell.execute_reply.started": "2022-05-18T15:35:38.197395Z"
    },
    "papermill": {
     "duration": 0.02269,
     "end_time": "2022-05-18T15:44:44.840952",
     "exception": false,
     "start_time": "2022-05-18T15:44:44.818262",
     "status": "completed"
    },
    "tags": []
   },
   "outputs": [],
   "source": [
    "f = open('customer_embeddings_from_text.pickle', 'wb')"
   ]
  },
  {
   "cell_type": "code",
   "execution_count": 14,
   "id": "edd8671c",
   "metadata": {
    "execution": {
     "iopub.execute_input": "2022-05-18T15:44:57.961700Z",
     "iopub.status.busy": "2022-05-18T15:44:57.356727Z",
     "iopub.status.idle": "2022-05-18T15:45:11.823854Z",
     "shell.execute_reply": "2022-05-18T15:45:11.823356Z",
     "shell.execute_reply.started": "2022-05-18T15:35:38.204639Z"
    },
    "papermill": {
     "duration": 26.967751,
     "end_time": "2022-05-18T15:45:11.824051",
     "exception": false,
     "start_time": "2022-05-18T15:44:44.856300",
     "status": "completed"
    },
    "tags": []
   },
   "outputs": [],
   "source": [
    "pickle.dump(customer_embeddings, f)"
   ]
  }
 ],
 "metadata": {
  "kernelspec": {
   "display_name": "Python 3",
   "language": "python",
   "name": "python3"
  },
  "language_info": {
   "codemirror_mode": {
    "name": "ipython",
    "version": 3
   },
   "file_extension": ".py",
   "mimetype": "text/x-python",
   "name": "python",
   "nbconvert_exporter": "python",
   "pygments_lexer": "ipython3",
   "version": "3.7.12"
  },
  "papermill": {
   "default_parameters": {},
   "duration": 460.489917,
   "end_time": "2022-05-18T15:45:14.906143",
   "environment_variables": {},
   "exception": null,
   "input_path": "__notebook__.ipynb",
   "output_path": "__notebook__.ipynb",
   "parameters": {},
   "start_time": "2022-05-18T15:37:34.416226",
   "version": "2.3.3"
  }
 },
 "nbformat": 4,
 "nbformat_minor": 5
}
