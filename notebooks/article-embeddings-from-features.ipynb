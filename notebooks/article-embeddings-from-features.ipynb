{
 "cells": [
  {
   "cell_type": "code",
   "execution_count": 1,
   "id": "6489beaf",
   "metadata": {
    "_cell_guid": "b1076dfc-b9ad-4769-8c92-a6c4dae69d19",
    "_uuid": "8f2839f25d086af736a60e9eeb907d3b93b6e0e5",
    "execution": {
     "iopub.execute_input": "2022-05-19T04:43:01.945067Z",
     "iopub.status.busy": "2022-05-19T04:43:01.944709Z",
     "iopub.status.idle": "2022-05-19T04:43:01.955423Z",
     "shell.execute_reply": "2022-05-19T04:43:01.954514Z"
    },
    "papermill": {
     "duration": 0.024409,
     "end_time": "2022-05-19T04:43:01.958045",
     "exception": false,
     "start_time": "2022-05-19T04:43:01.933636",
     "status": "completed"
    },
    "tags": []
   },
   "outputs": [],
   "source": [
    "import numpy as np # linear algebra\n",
    "import pandas as pd # data processing, CSV file I/O (e.g. pd.read_csv)"
   ]
  },
  {
   "cell_type": "code",
   "execution_count": null,
   "id": "cc68a20f",
   "metadata": {},
   "outputs": [],
   "source": []
  },
  {
   "cell_type": "code",
   "execution_count": 2,
   "id": "8b49025d",
   "metadata": {
    "execution": {
     "iopub.execute_input": "2022-05-19T04:43:01.977560Z",
     "iopub.status.busy": "2022-05-19T04:43:01.977184Z",
     "iopub.status.idle": "2022-05-19T04:43:03.275660Z",
     "shell.execute_reply": "2022-05-19T04:43:03.274689Z"
    },
    "papermill": {
     "duration": 1.311706,
     "end_time": "2022-05-19T04:43:03.278168",
     "exception": false,
     "start_time": "2022-05-19T04:43:01.966462",
     "status": "completed"
    },
    "tags": []
   },
   "outputs": [],
   "source": [
    "df = pd.read_csv('../input/h-and-m-personalized-fashion-recommendations/articles.csv', dtype=str)"
   ]
  },
  {
   "cell_type": "code",
   "execution_count": 3,
   "id": "2c9236fe",
   "metadata": {
    "execution": {
     "iopub.execute_input": "2022-05-19T04:43:03.294954Z",
     "iopub.status.busy": "2022-05-19T04:43:03.294687Z",
     "iopub.status.idle": "2022-05-19T04:43:03.333582Z",
     "shell.execute_reply": "2022-05-19T04:43:03.332794Z"
    },
    "papermill": {
     "duration": 0.050048,
     "end_time": "2022-05-19T04:43:03.335855",
     "exception": false,
     "start_time": "2022-05-19T04:43:03.285807",
     "status": "completed"
    },
    "tags": []
   },
   "outputs": [],
   "source": [
    "df = df[['article_id', 'product_type_name',\n",
    "       'product_group_name', \n",
    "       'graphical_appearance_name', 'colour_group_name',\n",
    "       'perceived_colour_value_name',\n",
    "       'perceived_colour_master_name',\n",
    "       'department_name', 'index_name',\n",
    "       'index_group_name', 'section_name',\n",
    "       'garment_group_name']]"
   ]
  },
  {
   "cell_type": "code",
   "execution_count": 4,
   "id": "4e62a894",
   "metadata": {
    "execution": {
     "iopub.execute_input": "2022-05-19T04:43:03.352758Z",
     "iopub.status.busy": "2022-05-19T04:43:03.352309Z",
     "iopub.status.idle": "2022-05-19T04:43:03.356060Z",
     "shell.execute_reply": "2022-05-19T04:43:03.355415Z"
    },
    "papermill": {
     "duration": 0.014626,
     "end_time": "2022-05-19T04:43:03.358087",
     "exception": false,
     "start_time": "2022-05-19T04:43:03.343461",
     "status": "completed"
    },
    "tags": []
   },
   "outputs": [],
   "source": [
    "feature_subset = ['product_group_name', 'product_type_name',\n",
    "       'graphical_appearance_name', 'colour_group_name',\n",
    "       'perceived_colour_value_name',\n",
    "       'perceived_colour_master_name',\n",
    "       'department_name', 'index_name',\n",
    "       'index_group_name', 'section_name',\n",
    "       'garment_group_name']"
   ]
  },
  {
   "cell_type": "code",
   "execution_count": 5,
   "id": "7567ab3e",
   "metadata": {
    "execution": {
     "iopub.execute_input": "2022-05-19T04:43:03.374854Z",
     "iopub.status.busy": "2022-05-19T04:43:03.374453Z",
     "iopub.status.idle": "2022-05-19T04:43:03.912993Z",
     "shell.execute_reply": "2022-05-19T04:43:03.911794Z"
    },
    "papermill": {
     "duration": 0.549826,
     "end_time": "2022-05-19T04:43:03.915541",
     "exception": false,
     "start_time": "2022-05-19T04:43:03.365715",
     "status": "completed"
    },
    "tags": []
   },
   "outputs": [],
   "source": [
    "dum = pd.get_dummies(df, columns=feature_subset)"
   ]
  },
  {
   "cell_type": "code",
   "execution_count": 6,
   "id": "914d311e",
   "metadata": {
    "execution": {
     "iopub.execute_input": "2022-05-19T04:43:03.933776Z",
     "iopub.status.busy": "2022-05-19T04:43:03.932972Z",
     "iopub.status.idle": "2022-05-19T04:43:04.051944Z",
     "shell.execute_reply": "2022-05-19T04:43:04.050890Z"
    },
    "papermill": {
     "duration": 0.130389,
     "end_time": "2022-05-19T04:43:04.054344",
     "exception": false,
     "start_time": "2022-05-19T04:43:03.923955",
     "status": "completed"
    },
    "tags": []
   },
   "outputs": [],
   "source": [
    "import pickle \n",
    "with open('article_embeddings_from_features.pickle', 'wb') as f:\n",
    "    pickle.dump(dum, f)"
   ]
  }
 ],
 "metadata": {
  "kernelspec": {
   "display_name": "Python 3",
   "language": "python",
   "name": "python3"
  },
  "language_info": {
   "codemirror_mode": {
    "name": "ipython",
    "version": 3
   },
   "file_extension": ".py",
   "mimetype": "text/x-python",
   "name": "python",
   "nbconvert_exporter": "python",
   "pygments_lexer": "ipython3",
   "version": "3.7.12"
  },
  "papermill": {
   "default_parameters": {},
   "duration": 13.134686,
   "end_time": "2022-05-19T04:43:04.683351",
   "environment_variables": {},
   "exception": null,
   "input_path": "__notebook__.ipynb",
   "output_path": "__notebook__.ipynb",
   "parameters": {},
   "start_time": "2022-05-19T04:42:51.548665",
   "version": "2.3.4"
  }
 },
 "nbformat": 4,
 "nbformat_minor": 5
}
